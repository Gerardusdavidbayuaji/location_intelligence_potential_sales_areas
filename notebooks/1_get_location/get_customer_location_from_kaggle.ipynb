{
 "cells": [
  {
   "cell_type": "code",
   "execution_count": null,
   "metadata": {},
   "outputs": [],
   "source": [
    "import pandas as pd\n",
    "import requests\n",
    "import time"
   ]
  },
  {
   "cell_type": "code",
   "execution_count": null,
   "metadata": {},
   "outputs": [],
   "source": [
    "hotel_location_in_jakarta = r\"C:/GD_2025/6_spatial_data_science/1_location_fnb/2_pipeline/location_intelligence_potential_sales_areas/data/row-data/1_input_datas/1_customer_location/hotel_location_in_jakarta.csv\"\n",
    "\n",
    "dateframe_hotel_location = pd.read_csv(hotel_location_in_jakarta)\n",
    "display(dateframe_hotel_location)"
   ]
  },
  {
   "cell_type": "code",
   "execution_count": null,
   "metadata": {},
   "outputs": [],
   "source": [
    "dataframe_cleanned = dateframe_hotel_location.drop(columns=[\"hotel_name_link\", \"review_score\",\t\"review_score_text\", \"review_score_title\", \"hotel_image\", \"hotel_price\"])\n",
    "display(dataframe_cleanned)"
   ]
  },
  {
   "cell_type": "code",
   "execution_count": null,
   "metadata": {},
   "outputs": [],
   "source": [
    "def get_coordinates_from_osm(location):\n",
    "    osm_url = \"http://overpass-api.de/api/interpreter\"\n",
    "\n",
    "    query = f\"\"\"\n",
    "    [out:json];\n",
    "    node[\"name\"=\"{location}\"];\n",
    "    out center;\n",
    "    \"\"\"\n",
    "\n",
    "    try:\n",
    "        response = requests.get(osm_url, params={'data': query})\n",
    "        data = response.json()\n",
    "\n",
    "        if \"elements\" in data and len(data[\"elements\"]) > 0:\n",
    "            lat = data[\"elements\"][0][\"lat\"]\n",
    "            lon = data[\"elements\"][0][\"lon\"]\n",
    "            return lat, lon\n",
    "        else:\n",
    "            return None, None\n",
    "    except Exception as error:\n",
    "        print(f\"Upss, error getting datas: {error}\")"
   ]
  },
  {
   "cell_type": "code",
   "execution_count": null,
   "metadata": {},
   "outputs": [],
   "source": [
    "dataframe_with_coordinate = dataframe_cleanned.copy()\n",
    "\n",
    "dataframe_with_coordinate[\"latitude\"] = None\n",
    "dataframe_with_coordinate[\"longitude\"] = None\n",
    "\n",
    "for index, row in dataframe_with_coordinate.iterrows():\n",
    "    hotel_name = row[\"hotel_name\"]\n",
    "    lat, lon = get_coordinates_from_osm(hotel_name)\n",
    "\n",
    "    dataframe_with_coordinate.at[index, \"latitude\"] = lat\n",
    "    dataframe_with_coordinate.at[index, \"longitude\"] = lon\n",
    "\n",
    "    time.sleep(1)\n",
    "\n",
    "print(dataframe_with_coordinate)"
   ]
  },
  {
   "cell_type": "code",
   "execution_count": null,
   "metadata": {},
   "outputs": [],
   "source": [
    "output_get_location_customer_from_kaggle = r\"C:/GD_2025/6_spatial_data_science/1_location_fnb/2_pipeline/location_intelligence_potential_sales_areas/data/row-data/2_cleanning_datas/result_customer_location_from_kaggle1.csv\"\n",
    "\n",
    "result_dataframe_with_coordinate = dataframe_with_coordinate.dropna()\n",
    "result_dataframe_with_coordinate[\"kategori\"] = \"Hotel\"\n",
    "display(result_dataframe_with_coordinate)\n",
    "\n",
    "result_dataframe_with_coordinate.to_csv(output_get_location_customer_from_kaggle, index=False)"
   ]
  }
 ],
 "metadata": {
  "kernelspec": {
   "display_name": "venv",
   "language": "python",
   "name": "python3"
  },
  "language_info": {
   "codemirror_mode": {
    "name": "ipython",
    "version": 3
   },
   "file_extension": ".py",
   "mimetype": "text/x-python",
   "name": "python",
   "nbconvert_exporter": "python",
   "pygments_lexer": "ipython3",
   "version": "3.10.8"
  }
 },
 "nbformat": 4,
 "nbformat_minor": 2
}
