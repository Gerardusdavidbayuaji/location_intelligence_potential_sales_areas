{
 "cells": [
  {
   "cell_type": "code",
   "execution_count": null,
   "metadata": {},
   "outputs": [],
   "source": [
    "import requests\n",
    "import folium\n",
    "import geopandas as gpd\n",
    "import pandas as pd"
   ]
  },
  {
   "cell_type": "code",
   "execution_count": null,
   "metadata": {},
   "outputs": [],
   "source": [
    "geojson_jakarta_path = r\"C:/GD_2025/6_spatial_data_science/1_location_fnb/2_pipeline/location_intelligence_potential_sales_areas/data/vektor/jakarta.geojson\"\n",
    "gdf = gpd.read_file(geojson_jakarta_path)\n",
    "minx, miny, maxx, maxy = gdf.total_bounds \n",
    "\n",
    "print(f\"bounding box Jakarta: ({miny}, {minx}, {maxy}, {maxx})\")"
   ]
  },
  {
   "cell_type": "code",
   "execution_count": null,
   "metadata": {},
   "outputs": [],
   "source": [
    "query = f\"\"\"\n",
    "[out:json];\n",
    "(\n",
    "  node[\"tourism\"=\"hotel\"]({miny},{minx},{maxy},{maxx});\n",
    "  node[\"building\"=\"office\"]({miny},{minx},{maxy},{maxx});\n",
    "  node[\"office\"]({miny},{minx},{maxy},{maxx});\n",
    "  node[\"amenity\"=\"business_centre\"]({miny},{minx},{maxy},{maxx});\n",
    "  node[\"building\"=\"commercial\"]({miny},{minx},{maxy},{maxx});\n",
    "  node[\"building\"=\"apartments\"]({miny},{minx},{maxy},{maxx});\n",
    ");\n",
    "out center;\n",
    "\"\"\"\n",
    "\n",
    "overpass_url = \"http://overpass-api.de/api/interpreter\"\n",
    "response = requests.get(overpass_url, params={'data': query})\n",
    "data = response.json()"
   ]
  },
  {
   "cell_type": "code",
   "execution_count": null,
   "metadata": {},
   "outputs": [],
   "source": [
    "places = []\n",
    "\n",
    "for element in data['elements']:\n",
    "    name = element.get('tags', {}).get('name', 'undefined')\n",
    "    tags = element.get(\"tags\", {})\n",
    "\n",
    "    if \"tourism\" in tags and tags[\"tourism\"] == \"hotel\":\n",
    "        category = \"Hotel\"\n",
    "    elif \"building\" in tags and tags[\"building\"] in [\"office\", \"commercial\"]:\n",
    "        category = \"Gedung Perkantoran\"\n",
    "    elif \"office\" in tags:  \n",
    "        category = \"Gedung Perkantoran\"\n",
    "    elif \"amenity\" in tags and tags[\"amenity\"] == \"business_centre\":\n",
    "        category = \"Pusat Bisnis\"\n",
    "    else:\n",
    "        category = \"Apartemen\"\n",
    "        \n",
    "    lat = element.get('lat', None)\n",
    "    lon = element.get('lon', None)\n",
    "    places.append([name, category, lat, lon])\n",
    "\n",
    "df_places = pd.DataFrame(places, columns=[\"nama\", \"kategori\", \"latitude\", \"longitude\"])\n",
    "print(df_places)"
   ]
  },
  {
   "cell_type": "code",
   "execution_count": null,
   "metadata": {},
   "outputs": [],
   "source": [
    "latitude = -6.195242532131491\n",
    "longitude = 106.8230052861102\n",
    "\n",
    "m = folium.Map(location=[latitude, longitude], zoom_start=11)\n",
    "\n",
    "folium.GeoJson(\n",
    "    geojson_jakarta_path,\n",
    "    name=\"Jakarta Area\",\n",
    "    style_function=lambda feature: {\n",
    "        \"fillColor\": \"#FF7517\",  \n",
    "        \"color\": \"#FF7517\",  \n",
    "        \"weight\": 1,  \n",
    "        \"fillOpacity\": 0.5  \n",
    "    }\n",
    ").add_to(m)\n",
    "\n",
    "for _, row in df_places.iterrows():\n",
    "    folium.Marker(\n",
    "        location=[row[\"latitude\"], row[\"longitude\"]],\n",
    "        popup=f\"{row['nama']} ({row['kategori']})\",\n",
    "        icon=folium.Icon(color=\"blue\" if row[\"kategori\"] == \"Hotel\" else \"red\" if row[\"kategori\"] == \"Gedung Perkantoran\" else \"green\")\n",
    "    ).add_to(m)\n",
    "\n",
    "folium.LayerControl().add_to(m)\n",
    "\n",
    "m\n"
   ]
  },
  {
   "cell_type": "code",
   "execution_count": null,
   "metadata": {},
   "outputs": [],
   "source": [
    "from shapely.geometry import Point\n",
    "\n",
    "jakarta_areas = gpd.read_file(geojson_jakarta_path)\n",
    "\n",
    "customer_location = [Point(xy) for xy in zip(df_places[\"longitude\"], df_places[\"latitude\"])]\n",
    "gdf_location = gpd.GeoDataFrame(df_places, geometry=customer_location, crs='EPSG:4326')\n",
    "\n",
    "result_customer_location = gdf_location.clip(jakarta_areas)\n",
    "\n",
    "m = folium.Map(location=[latitude, longitude], zoom_start=11)\n",
    "\n",
    "folium.GeoJson(\n",
    "    geojson_jakarta_path,\n",
    "    name=\"Jakarta Area\",\n",
    "    style_function=lambda feature: {\n",
    "        \"fillColor\": \"#FF7517\",  \n",
    "        \"color\": \"#FF7517\",  \n",
    "        \"weight\": 1,  \n",
    "        \"fillOpacity\": 0.5  \n",
    "    }\n",
    ").add_to(m)\n",
    "\n",
    "for _, row in result_customer_location.iterrows():\n",
    "    folium.Marker(\n",
    "        location=[row[\"latitude\"], row[\"longitude\"]],\n",
    "        popup=f\"{row['nama']} ({row['kategori']})\",\n",
    "        icon=folium.Icon(color=\"blue\" if row[\"kategori\"] == \"Hotel\" else \"red\" if row[\"kategori\"] == \"Gedung Perkantoran\" else \"green\")\n",
    "    ).add_to(m)\n",
    "\n",
    "folium.LayerControl().add_to(m)\n",
    "\n",
    "m"
   ]
  }
 ],
 "metadata": {
  "kernelspec": {
   "display_name": "venv",
   "language": "python",
   "name": "python3"
  },
  "language_info": {
   "codemirror_mode": {
    "name": "ipython",
    "version": 3
   },
   "file_extension": ".py",
   "mimetype": "text/x-python",
   "name": "python",
   "nbconvert_exporter": "python",
   "pygments_lexer": "ipython3",
   "version": "3.10.8"
  }
 },
 "nbformat": 4,
 "nbformat_minor": 2
}
